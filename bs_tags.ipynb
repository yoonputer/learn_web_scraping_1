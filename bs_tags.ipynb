{
 "cells": [
  {
   "cell_type": "code",
   "execution_count": 1,
   "id": "45a9417c",
   "metadata": {},
   "outputs": [],
   "source": [
    "from bs4 import BeautifulSoup"
   ]
  },
  {
   "cell_type": "code",
   "execution_count": 2,
   "id": "61cfc8f3",
   "metadata": {},
   "outputs": [],
   "source": [
    "html = '''\n",
    "<html>\n",
    "    <head>\n",
    "    </head>\n",
    "    <body>\n",
    "        <h1> 우리동네시장</h1>\n",
    "            <div class = 'sale'>\n",
    "                <p id='fruits1' class='fruits'>\n",
    "                    <span class = 'name'> 바나나 </span>\n",
    "                    <span class = 'price'> 3000원 </span>\n",
    "                    <span class = 'inventory'> 500개 </span>\n",
    "                    <span class = 'store'> 가나다상회 </span>\n",
    "                    <a href = 'http://bit.ly/forPlaywithData' > 홈페이지 </a>\n",
    "                </p>\n",
    "            </div>\n",
    "            <div class = 'prepare'>\n",
    "                <p id='fruits2' class='fruits'>\n",
    "                    <span class ='name'> 파인애플 </span>\n",
    "                </p>\n",
    "            </div>\n",
    "    </body>\n",
    "</html>\n",
    "'''"
   ]
  },
  {
   "cell_type": "code",
   "execution_count": 3,
   "id": "115cc728",
   "metadata": {},
   "outputs": [],
   "source": [
    "soup  = BeautifulSoup(html, 'html.parser')"
   ]
  },
  {
   "cell_type": "code",
   "execution_count": 7,
   "id": "c427dcd0",
   "metadata": {},
   "outputs": [
    {
     "data": {
      "text/plain": [
       "[<span class=\"name\"> 바나나 </span>,\n",
       " <span class=\"price\"> 3000원 </span>,\n",
       " <span class=\"inventory\"> 500개 </span>,\n",
       " <span class=\"store\"> 가나다상회 </span>,\n",
       " <span class=\"name\"> 파인애플 </span>]"
      ]
     },
     "execution_count": 7,
     "metadata": {},
     "output_type": "execute_result"
    }
   ],
   "source": [
    "soup.select('span')"
   ]
  },
  {
   "cell_type": "code",
   "execution_count": 8,
   "id": "a6fb32f7",
   "metadata": {},
   "outputs": [],
   "source": [
    "span = soup.select('span')"
   ]
  },
  {
   "cell_type": "code",
   "execution_count": 9,
   "id": "dab9f156",
   "metadata": {},
   "outputs": [
    {
     "data": {
      "text/plain": [
       "bs4.element.ResultSet"
      ]
     },
     "execution_count": 9,
     "metadata": {},
     "output_type": "execute_result"
    }
   ],
   "source": [
    "type(span)"
   ]
  },
  {
   "cell_type": "code",
   "execution_count": 14,
   "id": "46985eb8",
   "metadata": {},
   "outputs": [
    {
     "data": {
      "text/plain": [
       "<span class=\"name\"> 바나나 </span>"
      ]
     },
     "execution_count": 14,
     "metadata": {},
     "output_type": "execute_result"
    }
   ],
   "source": [
    "span[0]"
   ]
  },
  {
   "cell_type": "markdown",
   "id": "05f0258d",
   "metadata": {},
   "source": [
    "tag : 그냥 사용\n",
    "\n",
    "class : .\n",
    "\n",
    "id : #"
   ]
  },
  {
   "cell_type": "code",
   "execution_count": 15,
   "id": "f2375b4b",
   "metadata": {},
   "outputs": [],
   "source": [
    "fruits = soup.select('fruits1')"
   ]
  },
  {
   "cell_type": "code",
   "execution_count": 16,
   "id": "a2cc5640",
   "metadata": {},
   "outputs": [
    {
     "data": {
      "text/plain": [
       "[]"
      ]
     },
     "execution_count": 16,
     "metadata": {},
     "output_type": "execute_result"
    }
   ],
   "source": [
    "fruits"
   ]
  },
  {
   "cell_type": "code",
   "execution_count": 17,
   "id": "3285fdaf",
   "metadata": {},
   "outputs": [],
   "source": [
    "fruits = soup.select('#fruits1')"
   ]
  },
  {
   "cell_type": "code",
   "execution_count": 19,
   "id": "71309598",
   "metadata": {},
   "outputs": [
    {
     "data": {
      "text/plain": [
       "(bs4.element.ResultSet,\n",
       " [<p class=\"fruits\" id=\"fruits1\">\n",
       "  <span class=\"name\"> 바나나 </span>\n",
       "  <span class=\"price\"> 3000원 </span>\n",
       "  <span class=\"inventory\"> 500개 </span>\n",
       "  <span class=\"store\"> 가나다상회 </span>\n",
       "  <a href=\"http://bit.ly/forPlaywithData\"> 홈페이지 </a>\n",
       "  </p>])"
      ]
     },
     "execution_count": 19,
     "metadata": {},
     "output_type": "execute_result"
    }
   ],
   "source": [
    "type(fruits),fruits"
   ]
  },
  {
   "cell_type": "code",
   "execution_count": 20,
   "id": "4ef9be81",
   "metadata": {},
   "outputs": [
    {
     "data": {
      "text/plain": [
       "1"
      ]
     },
     "execution_count": 20,
     "metadata": {},
     "output_type": "execute_result"
    }
   ],
   "source": [
    "len(fruits)"
   ]
  },
  {
   "cell_type": "code",
   "execution_count": 21,
   "id": "7d7c6583",
   "metadata": {},
   "outputs": [],
   "source": [
    "result = soup.select('.inventory')"
   ]
  },
  {
   "cell_type": "code",
   "execution_count": 22,
   "id": "425c7e1c",
   "metadata": {},
   "outputs": [
    {
     "data": {
      "text/plain": [
       "(bs4.element.ResultSet, [<span class=\"inventory\"> 500개 </span>])"
      ]
     },
     "execution_count": 22,
     "metadata": {},
     "output_type": "execute_result"
    }
   ],
   "source": [
    "type(result),result"
   ]
  },
  {
   "cell_type": "code",
   "execution_count": 23,
   "id": "49ce7c14",
   "metadata": {},
   "outputs": [
    {
     "data": {
      "text/plain": [
       "1"
      ]
     },
     "execution_count": 23,
     "metadata": {},
     "output_type": "execute_result"
    }
   ],
   "source": [
    "len(result)"
   ]
  },
  {
   "cell_type": "code",
   "execution_count": 24,
   "id": "bcd4cc41",
   "metadata": {},
   "outputs": [],
   "source": [
    "price = soup.select('span.price')"
   ]
  },
  {
   "cell_type": "code",
   "execution_count": 26,
   "id": "0427b30b",
   "metadata": {},
   "outputs": [
    {
     "data": {
      "text/plain": [
       "(bs4.element.ResultSet, [<span class=\"price\"> 3000원 </span>])"
      ]
     },
     "execution_count": 26,
     "metadata": {},
     "output_type": "execute_result"
    }
   ],
   "source": [
    "type(price),price"
   ]
  },
  {
   "cell_type": "code",
   "execution_count": 27,
   "id": "be4c9d7e",
   "metadata": {},
   "outputs": [],
   "source": [
    "firstname = soup.select('p#fruits1 > span.name')  # span.name 말고 .name만 해도됨"
   ]
  },
  {
   "cell_type": "code",
   "execution_count": 28,
   "id": "35e23f72",
   "metadata": {},
   "outputs": [
    {
     "data": {
      "text/plain": [
       "(bs4.element.ResultSet, [<span class=\"name\"> 바나나 </span>])"
      ]
     },
     "execution_count": 28,
     "metadata": {},
     "output_type": "execute_result"
    }
   ],
   "source": [
    "type(firstname),firstname"
   ]
  },
  {
   "cell_type": "code",
   "execution_count": 44,
   "id": "4d5c2e1d",
   "metadata": {},
   "outputs": [],
   "source": [
    "findnameclass = soup.select('.name')"
   ]
  },
  {
   "cell_type": "code",
   "execution_count": 45,
   "id": "1e2976e0",
   "metadata": {},
   "outputs": [
    {
     "data": {
      "text/plain": [
       "(bs4.element.ResultSet,\n",
       " [<span class=\"name\"> 바나나 </span>, <span class=\"name\"> 파인애플 </span>])"
      ]
     },
     "execution_count": 45,
     "metadata": {},
     "output_type": "execute_result"
    }
   ],
   "source": [
    "type(findnameclass),findnameclass"
   ]
  },
  {
   "cell_type": "markdown",
   "id": "58d2933c",
   "metadata": {},
   "source": [
    "* 이 경우 span : 태그 / class=\"name\" : 애트리뷰트 / 바나나 : 텍스트"
   ]
  },
  {
   "cell_type": "code",
   "execution_count": 43,
   "id": "4c89fa0d",
   "metadata": {},
   "outputs": [
    {
     "name": "stdout",
     "output_type": "stream",
     "text": [
      "<span class=\"name\"> 바나나 </span>\n",
      "<span class=\"name\"> 파인애플 </span>\n"
     ]
    }
   ],
   "source": [
    "# len(findnameclass)\n",
    "for tag in findnameclass:\n",
    "    print(tag)"
   ]
  },
  {
   "cell_type": "markdown",
   "id": "d5daa539",
   "metadata": {},
   "source": [
    "for문은 list"
   ]
  },
  {
   "cell_type": "code",
   "execution_count": 36,
   "id": "92874ae5",
   "metadata": {},
   "outputs": [
    {
     "data": {
      "text/plain": [
       "<span class=\"name\"> 바나나 </span>"
      ]
     },
     "execution_count": 36,
     "metadata": {},
     "output_type": "execute_result"
    }
   ],
   "source": [
    "findnameclass[0]"
   ]
  },
  {
   "cell_type": "code",
   "execution_count": 38,
   "id": "478da323",
   "metadata": {},
   "outputs": [
    {
     "data": {
      "text/plain": [
       "' 바나나 '"
      ]
     },
     "execution_count": 38,
     "metadata": {},
     "output_type": "execute_result"
    }
   ],
   "source": [
    "findnameclass[0].text   # 텍스트만 나오지만 좌우에 space가 있음"
   ]
  },
  {
   "cell_type": "code",
   "execution_count": 39,
   "id": "95230c04",
   "metadata": {},
   "outputs": [],
   "source": [
    "s = findnameclass[0].text"
   ]
  },
  {
   "cell_type": "code",
   "execution_count": 40,
   "id": "4541d14f",
   "metadata": {},
   "outputs": [
    {
     "data": {
      "text/plain": [
       "'바나나'"
      ]
     },
     "execution_count": 40,
     "metadata": {},
     "output_type": "execute_result"
    }
   ],
   "source": [
    "s.strip()"
   ]
  },
  {
   "cell_type": "code",
   "execution_count": 42,
   "id": "02ff4855",
   "metadata": {},
   "outputs": [
    {
     "data": {
      "text/plain": [
       "'바나나'"
      ]
     },
     "execution_count": 42,
     "metadata": {},
     "output_type": "execute_result"
    }
   ],
   "source": [
    "findnameclass[0].text.strip() # 한번에 하기"
   ]
  },
  {
   "cell_type": "code",
   "execution_count": 49,
   "id": "552ce268",
   "metadata": {},
   "outputs": [
    {
     "name": "stdout",
     "output_type": "stream",
     "text": [
      "바나나\n",
      "파인애플\n"
     ]
    }
   ],
   "source": [
    "# for문 돌리면서 한번에 텍스트만 추출하기\n",
    "for tag in findnameclass:\n",
    "    print(tag.text.strip())"
   ]
  },
  {
   "cell_type": "code",
   "execution_count": 58,
   "id": "56d7e901",
   "metadata": {},
   "outputs": [
    {
     "data": {
      "text/plain": [
       "'name'"
      ]
     },
     "execution_count": 58,
     "metadata": {},
     "output_type": "execute_result"
    }
   ],
   "source": [
    "cls = findnameclass[0]['class']\n",
    "cls[0]"
   ]
  },
  {
   "cell_type": "code",
   "execution_count": 56,
   "id": "f7a1f5ed",
   "metadata": {},
   "outputs": [
    {
     "data": {
      "text/plain": [
       "list"
      ]
     },
     "execution_count": 56,
     "metadata": {},
     "output_type": "execute_result"
    }
   ],
   "source": [
    "type(cls)"
   ]
  },
  {
   "cell_type": "code",
   "execution_count": 57,
   "id": "2672c79a",
   "metadata": {},
   "outputs": [
    {
     "data": {
      "text/plain": [
       "'name'"
      ]
     },
     "execution_count": 57,
     "metadata": {},
     "output_type": "execute_result"
    }
   ],
   "source": [
    "findnameclass[0]['class'][0]"
   ]
  },
  {
   "cell_type": "code",
   "execution_count": 59,
   "id": "48bf5bc6",
   "metadata": {},
   "outputs": [
    {
     "name": "stdout",
     "output_type": "stream",
     "text": [
      "바나나 name\n",
      "파인애플 name\n"
     ]
    }
   ],
   "source": [
    "for tag in findnameclass:\n",
    "    print(tag.text.strip(), tag['class'][0])"
   ]
  },
  {
   "cell_type": "code",
   "execution_count": null,
   "id": "35eadb9d",
   "metadata": {},
   "outputs": [],
   "source": []
  },
  {
   "cell_type": "code",
   "execution_count": null,
   "id": "a367ab43",
   "metadata": {},
   "outputs": [],
   "source": []
  },
  {
   "cell_type": "code",
   "execution_count": null,
   "id": "fe0967af",
   "metadata": {},
   "outputs": [],
   "source": []
  }
 ],
 "metadata": {
  "kernelspec": {
   "display_name": "Python 3",
   "language": "python",
   "name": "python3"
  },
  "language_info": {
   "codemirror_mode": {
    "name": "ipython",
    "version": 3
   },
   "file_extension": ".py",
   "mimetype": "text/x-python",
   "name": "python",
   "nbconvert_exporter": "python",
   "pygments_lexer": "ipython3",
   "version": "3.6.4"
  }
 },
 "nbformat": 4,
 "nbformat_minor": 5
}
