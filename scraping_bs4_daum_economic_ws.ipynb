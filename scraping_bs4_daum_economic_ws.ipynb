{
 "cells": [
  {
   "cell_type": "code",
   "execution_count": 1,
   "id": "0aa7e7c9",
   "metadata": {},
   "outputs": [],
   "source": [
    "import requests"
   ]
  },
  {
   "cell_type": "code",
   "execution_count": 2,
   "id": "97e4c256",
   "metadata": {},
   "outputs": [],
   "source": [
    "path = 'http://media.daum.net/economic/'\n",
    "req = requests.get(path)"
   ]
  },
  {
   "cell_type": "code",
   "execution_count": 4,
   "id": "03a20ebd",
   "metadata": {},
   "outputs": [],
   "source": [
    "from bs4 import BeautifulSoup"
   ]
  },
  {
   "cell_type": "code",
   "execution_count": 17,
   "id": "de96cb6d",
   "metadata": {},
   "outputs": [],
   "source": [
    "soup = BeautifulSoup(req.content, 'html.parser')"
   ]
  },
  {
   "cell_type": "code",
   "execution_count": 27,
   "id": "71eea45f",
   "metadata": {},
   "outputs": [
    {
     "data": {
      "text/plain": [
       "[]"
      ]
     },
     "execution_count": 27,
     "metadata": {},
     "output_type": "execute_result"
    }
   ],
   "source": [
    "soup.select('div > ul.list_timenews >li > strong > a[href].link_txt')"
   ]
  },
  {
   "cell_type": "markdown",
   "id": "92cb4df2",
   "metadata": {},
   "source": [
    "보안 문제때문에 공백으로 나옴"
   ]
  },
  {
   "cell_type": "markdown",
   "id": "a0feba6e",
   "metadata": {},
   "source": [
    "---\n"
   ]
  },
  {
   "cell_type": "code",
   "execution_count": 28,
   "id": "b74b462e",
   "metadata": {},
   "outputs": [],
   "source": [
    "path2 = 'https://www.genie.co.kr/chart/top200'"
   ]
  },
  {
   "cell_type": "code",
   "execution_count": 29,
   "id": "4236bbaf",
   "metadata": {},
   "outputs": [],
   "source": [
    "req2 = requests.get(path2)"
   ]
  },
  {
   "cell_type": "code",
   "execution_count": 30,
   "id": "1062822f",
   "metadata": {},
   "outputs": [],
   "source": [
    "soup2 = BeautifulSoup(req2.content, 'html.parser')"
   ]
  },
  {
   "cell_type": "markdown",
   "id": "a077dce8",
   "metadata": {},
   "source": [
    "a.title.ellipsis"
   ]
  }
 ],
 "metadata": {
  "kernelspec": {
   "display_name": "Python 3",
   "language": "python",
   "name": "python3"
  },
  "language_info": {
   "codemirror_mode": {
    "name": "ipython",
    "version": 3
   },
   "file_extension": ".py",
   "mimetype": "text/x-python",
   "name": "python",
   "nbconvert_exporter": "python",
   "pygments_lexer": "ipython3",
   "version": "3.6.4"
  }
 },
 "nbformat": 4,
 "nbformat_minor": 5
}
