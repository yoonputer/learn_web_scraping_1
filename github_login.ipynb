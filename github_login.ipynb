{
 "cells": [
  {
   "cell_type": "code",
   "execution_count": 1,
   "id": "f5fbfce3",
   "metadata": {},
   "outputs": [],
   "source": [
    "from selenium import webdriver"
   ]
  },
  {
   "cell_type": "code",
   "execution_count": 2,
   "id": "865b77a7",
   "metadata": {},
   "outputs": [],
   "source": [
    "browser = webdriver.Chrome('./chromedriver.exe')\n",
    "browser.get('https://github.com/login')"
   ]
  },
  {
   "cell_type": "markdown",
   "id": "26f5ae31",
   "metadata": {},
   "source": [
    "id : input#login_field  / pw : input#password button : input[type=\"submit\"]"
   ]
  },
  {
   "cell_type": "code",
   "execution_count": null,
   "id": "91547282",
   "metadata": {},
   "outputs": [],
   "source": [
    "import time\n",
    "time.sleep(5)\n",
    "# ID\n",
    "browser.find_elements_by_css_selector('input#login_field').send_keys('본인 github ID')\n",
    "# password\n",
    "browser.find_elements_by_css_selector('input#password').send_keys('본인 githun PWD')\n",
    "# submit\n",
    "browser."
   ]
  },
  {
   "cell_type": "code",
   "execution_count": null,
   "id": "d3930e57",
   "metadata": {},
   "outputs": [],
   "source": []
  }
 ],
 "metadata": {
  "kernelspec": {
   "display_name": "Python 3",
   "language": "python",
   "name": "python3"
  },
  "language_info": {
   "codemirror_mode": {
    "name": "ipython",
    "version": 3
   },
   "file_extension": ".py",
   "mimetype": "text/x-python",
   "name": "python",
   "nbconvert_exporter": "python",
   "pygments_lexer": "ipython3",
   "version": "3.6.4"
  }
 },
 "nbformat": 4,
 "nbformat_minor": 5
}
